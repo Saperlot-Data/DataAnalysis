{
 "cells": [
  {
   "cell_type": "markdown",
   "metadata": {
    "collapsed": true
   },
   "source": [
    "# Exploring Hacker News Posts"
   ]
  },
  {
   "cell_type": "markdown",
   "metadata": {},
   "source": [
    "## 1. Project Introduction"
   ]
  },
  {
   "cell_type": "markdown",
   "metadata": {},
   "source": [
    "In this project, I will work with a dataset of submissions to popular technology site [Hacker News](https://news.ycombinator.com/).\n",
    "\n",
    "Hacker News is a site started by the startup incubator Y Combinator, where user-submitted stories (known as \"posts\") receive votes and comments, similar to reddit. Hacker News is extremely popular in technology and startup circles, and posts that make it to the top of the Hacker News listings can get hundreds of thousands of visitors as a result.\n",
    "\n",
    "Some posts can easily attract a lot of views, and comments. In this study we will explore aspects that impact the amount of comments for a post.\n",
    "\n",
    "Post title: when creating posts, users can - optionally - add Ask HN or Show HN to the title of the post. They do so to explicitly 'ask' or 'show' something to the Hacker News community. We'll analyze whether posts with these tags receive more comments on average.\n",
    "\n",
    "Post timing: also, we will explore whether posts published at certain times receive more comments on average."
   ]
  },
  {
   "cell_type": "markdown",
   "metadata": {},
   "source": [
    "## 2. Opening and Exploring Data"
   ]
  },
  {
   "cell_type": "markdown",
   "metadata": {},
   "source": [
    "The data set for this project can be found [here](https://www.kaggle.com/hacker-news/hacker-news-posts). It contains almost 300,000 rows, each row representing a post. The data is of 2016. The data set  has been reduced to approximately 20,000 rows by removing all submissions that didn't receive any comments and then randomly sampling from the remaining submissions.\n",
    "\n",
    "Let's start by opening and exploring the dataset:"
   ]
  },
  {
   "cell_type": "code",
   "execution_count": 47,
   "metadata": {},
   "outputs": [
    {
     "name": "stdout",
     "output_type": "stream",
     "text": [
      "['id', 'title', 'url', 'num_points', 'num_comments', 'author', 'created_at'] \n",
      "\n",
      "['12224879', 'Interactive Dynamic Video', 'http://www.interactivedynamicvideo.com/', '386', '52', 'ne0phyte', '8/4/2016 11:52'] \n",
      "\n",
      "['10975351', 'How to Use Open Source and Shut the Fuck Up at the Same Time', 'http://hueniverse.com/2016/01/26/how-to-use-open-source-and-shut-the-fuck-up-at-the-same-time/', '39', '10', 'josep2', '1/26/2016 19:30'] \n",
      "\n",
      "['11964716', \"Florida DJs May Face Felony for April Fools' Water Joke\", 'http://www.thewire.com/entertainment/2013/04/florida-djs-april-fools-water-joke/63798/', '2', '1', 'vezycash', '6/23/2016 22:20'] \n",
      "\n",
      "['11919867', 'Technology ventures: From Idea to Enterprise', 'https://www.amazon.com/Technology-Ventures-Enterprise-Thomas-Byers/dp/0073523429', '3', '1', 'hswarna', '6/17/2016 0:01'] \n",
      "\n"
     ]
    }
   ],
   "source": [
    "from csv import reader\n",
    "opened_file = open(\"hacker_news.csv\")\n",
    "read_file = reader(opened_file)\n",
    "hn = list(read_file)\n",
    "\n",
    "for row in hn[:5]:\n",
    "    print(row, '\\n')"
   ]
  },
  {
   "cell_type": "markdown",
   "metadata": {},
   "source": [
    "Let's split of the headers in in headers, and keep the data itself in hn. (And print to check the results)"
   ]
  },
  {
   "cell_type": "code",
   "execution_count": 48,
   "metadata": {},
   "outputs": [
    {
     "name": "stdout",
     "output_type": "stream",
     "text": [
      "['id', 'title', 'url', 'num_points', 'num_comments', 'author', 'created_at']\n"
     ]
    }
   ],
   "source": [
    "headers = hn[0]\n",
    "hn = hn[1:]\n",
    "print(headers)"
   ]
  },
  {
   "cell_type": "code",
   "execution_count": 49,
   "metadata": {},
   "outputs": [
    {
     "name": "stdout",
     "output_type": "stream",
     "text": [
      "['12224879', 'Interactive Dynamic Video', 'http://www.interactivedynamicvideo.com/', '386', '52', 'ne0phyte', '8/4/2016 11:52'] \n",
      "\n",
      "['10975351', 'How to Use Open Source and Shut the Fuck Up at the Same Time', 'http://hueniverse.com/2016/01/26/how-to-use-open-source-and-shut-the-fuck-up-at-the-same-time/', '39', '10', 'josep2', '1/26/2016 19:30'] \n",
      "\n",
      "['11964716', \"Florida DJs May Face Felony for April Fools' Water Joke\", 'http://www.thewire.com/entertainment/2013/04/florida-djs-april-fools-water-joke/63798/', '2', '1', 'vezycash', '6/23/2016 22:20'] \n",
      "\n"
     ]
    }
   ],
   "source": [
    "for row in hn[:3]:\n",
    "    print(row, '\\n')"
   ]
  },
  {
   "cell_type": "markdown",
   "metadata": {},
   "source": [
    "Next, let us split the data into three new lists:\n",
    "\n",
    "- ask_posts (the one who posted added 'ask hn' or similar)\n",
    "- show_posts (the one who posted added 'show hn' or similar)\n",
    "- other_posts (the remainder)"
   ]
  },
  {
   "cell_type": "code",
   "execution_count": 50,
   "metadata": {},
   "outputs": [],
   "source": [
    "# Create three empty lists\n",
    "\n",
    "ask_posts = []\n",
    "show_posts = []\n",
    "other_posts = []\n",
    "\n",
    "# Fill the lists by using a for-loop\n",
    "\n",
    "for row in hn:\n",
    "    title = row[1]\n",
    "    if title.lower().startswith(\"ask hn\") == True:\n",
    "        ask_posts.append(row)\n",
    "    elif title.lower().startswith(\"show hn\") == True:\n",
    "        show_posts.append(row)\n",
    "    else:\n",
    "        other_posts.append(row)"
   ]
  },
  {
   "cell_type": "markdown",
   "metadata": {},
   "source": [
    "Let's check the number of ask posts:"
   ]
  },
  {
   "cell_type": "code",
   "execution_count": 51,
   "metadata": {},
   "outputs": [
    {
     "name": "stdout",
     "output_type": "stream",
     "text": [
      "1744\n"
     ]
    }
   ],
   "source": [
    "print(len(ask_posts))"
   ]
  },
  {
   "cell_type": "markdown",
   "metadata": {},
   "source": [
    "Let's check the number of show posts:"
   ]
  },
  {
   "cell_type": "code",
   "execution_count": 52,
   "metadata": {},
   "outputs": [
    {
     "name": "stdout",
     "output_type": "stream",
     "text": [
      "1162\n"
     ]
    }
   ],
   "source": [
    "print(len(show_posts))"
   ]
  },
  {
   "cell_type": "markdown",
   "metadata": {},
   "source": [
    "Let's check the number of other posts:"
   ]
  },
  {
   "cell_type": "code",
   "execution_count": 53,
   "metadata": {},
   "outputs": [
    {
     "name": "stdout",
     "output_type": "stream",
     "text": [
      "17194\n"
     ]
    }
   ],
   "source": [
    "print(len(other_posts))"
   ]
  },
  {
   "cell_type": "markdown",
   "metadata": {},
   "source": [
    "And now let's print as sample the first 5 ask posts:"
   ]
  },
  {
   "cell_type": "code",
   "execution_count": 54,
   "metadata": {},
   "outputs": [
    {
     "name": "stdout",
     "output_type": "stream",
     "text": [
      "['12296411', 'Ask HN: How to improve my personal website?', '', '2', '6', 'ahmedbaracat', '8/16/2016 9:55'] \n",
      "\n",
      "['10610020', 'Ask HN: Am I the only one outraged by Twitter shutting down share counts?', '', '28', '29', 'tkfx', '11/22/2015 13:43'] \n",
      "\n",
      "['11610310', 'Ask HN: Aby recent changes to CSS that broke mobile?', '', '1', '1', 'polskibus', '5/2/2016 10:14'] \n",
      "\n",
      "['12210105', 'Ask HN: Looking for Employee #3 How do I do it?', '', '1', '3', 'sph130', '8/2/2016 14:20'] \n",
      "\n",
      "['10394168', 'Ask HN: Someone offered to buy my browser extension from me. What now?', '', '28', '17', 'roykolak', '10/15/2015 16:38'] \n",
      "\n"
     ]
    }
   ],
   "source": [
    "for row in ask_posts[:5]:\n",
    "    print(row, '\\n')"
   ]
  },
  {
   "cell_type": "markdown",
   "metadata": {},
   "source": [
    "Next, let's check if \"ask posts\" or \"show posts\" receive more comments on average:"
   ]
  },
  {
   "cell_type": "code",
   "execution_count": 55,
   "metadata": {},
   "outputs": [
    {
     "name": "stdout",
     "output_type": "stream",
     "text": [
      "Total number of comments for ask posts is 24483\n"
     ]
    }
   ],
   "source": [
    "total_ask_comments = 0 # set total_ask_comments to 0\n",
    "\n",
    "for item in ask_posts:\n",
    "    value = int(item[4]) # number of comments is the fifth column, convert value to an interger for sum calucation\n",
    "    total_ask_comments += value # add value to total_ask_comments\n",
    "\n",
    "print('Total number of comments for ask posts is {:}'.format(total_ask_comments))"
   ]
  },
  {
   "cell_type": "code",
   "execution_count": 56,
   "metadata": {},
   "outputs": [],
   "source": [
    "avg_ask_comments = total_ask_comments / len((ask_posts)) "
   ]
  },
  {
   "cell_type": "code",
   "execution_count": 57,
   "metadata": {},
   "outputs": [
    {
     "name": "stdout",
     "output_type": "stream",
     "text": [
      "Average number of comments for ask posts is 14.04\n"
     ]
    }
   ],
   "source": [
    "print('Average number of comments for ask posts is {:.2f}'.format(avg_ask_comments))"
   ]
  },
  {
   "cell_type": "code",
   "execution_count": 58,
   "metadata": {},
   "outputs": [
    {
     "name": "stdout",
     "output_type": "stream",
     "text": [
      "Total number of comments for show posts is 11988\n",
      "Average number of comments for show posts is 10.32\n"
     ]
    }
   ],
   "source": [
    "total_show_comments = 0\n",
    "\n",
    "for item in show_posts:\n",
    "    value = int(item[4])\n",
    "    total_show_comments += value\n",
    "\n",
    "avg_show_comments = total_show_comments / len((show_posts))\n",
    "    \n",
    "print('Total number of comments for show posts is {:}'.format(total_show_comments))\n",
    "print('Average number of comments for show posts is {:.2f}'.format(avg_show_comments))"
   ]
  },
  {
   "cell_type": "markdown",
   "metadata": {},
   "source": [
    "\"Ask posts\" receive more comments then \"Show posts\". The reason is probably, because \"Ask posts\" are asking for a comment for another user in general "
   ]
  },
  {
   "cell_type": "markdown",
   "metadata": {},
   "source": [
    "To analyze whether particular times of the day attact more comments, we will continue with these \"ask\" posts."
   ]
  },
  {
   "cell_type": "code",
   "execution_count": 59,
   "metadata": {},
   "outputs": [],
   "source": [
    "import datetime as dt"
   ]
  },
  {
   "cell_type": "code",
   "execution_count": 60,
   "metadata": {},
   "outputs": [],
   "source": [
    "# Create a list that contains the creation times and number of comments (ask-posts only)\n",
    "\n",
    "result_list = []\n",
    "\n",
    "for row in ask_posts:\n",
    "    creation = row[6]\n",
    "    comments = int(row[4])\n",
    "    result_list.append([creation,comments])"
   ]
  },
  {
   "cell_type": "code",
   "execution_count": 61,
   "metadata": {},
   "outputs": [
    {
     "name": "stdout",
     "output_type": "stream",
     "text": [
      "['8/16/2016 9:55', 6] \n",
      "\n",
      "['11/22/2015 13:43', 29] \n",
      "\n",
      "['5/2/2016 10:14', 1] \n",
      "\n",
      "['8/2/2016 14:20', 3] \n",
      "\n",
      "['10/15/2015 16:38', 17] \n",
      "\n"
     ]
    }
   ],
   "source": [
    "for row in result_list[:5]:\n",
    "    print(row, '\\n')"
   ]
  },
  {
   "cell_type": "code",
   "execution_count": 62,
   "metadata": {},
   "outputs": [],
   "source": [
    "# Build frequency tables for the number of posts and for the number of comments, per hour of the day\n",
    "\n",
    "counts_by_hour = {}\n",
    "comments_by_hour = {}\n",
    "\n",
    "for element in result_list:\n",
    "    hour = dt.datetime.strptime(element[0], \"%m/%d/%Y %H:%M\").strftime(\"%H\")\n",
    "    comment = element[1]\n",
    "    \n",
    "    if hour not in counts_by_hour:\n",
    "        counts_by_hour[hour] = 1\n",
    "        comments_by_hour[hour] = comment\n",
    "    else:\n",
    "        counts_by_hour[hour] += 1\n",
    "        comments_by_hour[hour] += comment"
   ]
  },
  {
   "cell_type": "code",
   "execution_count": 63,
   "metadata": {},
   "outputs": [
    {
     "name": "stdout",
     "output_type": "stream",
     "text": [
      "{'09': 45, '13': 85, '10': 59, '14': 107, '16': 108, '23': 68, '12': 73, '17': 100, '15': 116, '21': 109, '20': 80, '02': 58, '18': 109, '03': 54, '05': 46, '19': 110, '01': 60, '22': 71, '08': 48, '04': 47, '00': 55, '06': 44, '07': 34, '11': 58}\n"
     ]
    }
   ],
   "source": [
    "print(counts_by_hour)"
   ]
  },
  {
   "cell_type": "code",
   "execution_count": 64,
   "metadata": {},
   "outputs": [
    {
     "name": "stdout",
     "output_type": "stream",
     "text": [
      "{'09': 251, '13': 1253, '10': 793, '14': 1416, '16': 1814, '23': 543, '12': 687, '17': 1146, '15': 4477, '21': 1745, '20': 1722, '02': 1381, '18': 1439, '03': 421, '05': 464, '19': 1188, '01': 683, '22': 479, '08': 492, '04': 337, '00': 447, '06': 397, '07': 267, '11': 641}\n"
     ]
    }
   ],
   "source": [
    "print(comments_by_hour)"
   ]
  },
  {
   "cell_type": "code",
   "execution_count": 65,
   "metadata": {},
   "outputs": [],
   "source": [
    "# Create a table that contains the hours of day and the average number of comments per posts\n",
    "\n",
    "avg_by_hour = []\n",
    "\n",
    "for row in counts_by_hour:\n",
    "    avg_by_hour.append([row, comments_by_hour[row] / counts_by_hour[row]])"
   ]
  },
  {
   "cell_type": "code",
   "execution_count": 66,
   "metadata": {},
   "outputs": [],
   "source": [
    "# Sort the list (on its first element, being the hour of day)\n",
    "avg_by_hour.sort()"
   ]
  },
  {
   "cell_type": "code",
   "execution_count": 67,
   "metadata": {},
   "outputs": [
    {
     "name": "stdout",
     "output_type": "stream",
     "text": [
      "For hour 00 the average number of comments per post is 8.13\n",
      "For hour 01 the average number of comments per post is 11.38\n",
      "For hour 02 the average number of comments per post is 23.81\n",
      "For hour 03 the average number of comments per post is 7.80\n",
      "For hour 04 the average number of comments per post is 7.17\n",
      "For hour 05 the average number of comments per post is 10.09\n",
      "For hour 06 the average number of comments per post is 9.02\n",
      "For hour 07 the average number of comments per post is 7.85\n",
      "For hour 08 the average number of comments per post is 10.25\n",
      "For hour 09 the average number of comments per post is 5.58\n",
      "For hour 10 the average number of comments per post is 13.44\n",
      "For hour 11 the average number of comments per post is 11.05\n",
      "For hour 12 the average number of comments per post is 9.41\n",
      "For hour 13 the average number of comments per post is 14.74\n",
      "For hour 14 the average number of comments per post is 13.23\n",
      "For hour 15 the average number of comments per post is 38.59\n",
      "For hour 16 the average number of comments per post is 16.80\n",
      "For hour 17 the average number of comments per post is 11.46\n",
      "For hour 18 the average number of comments per post is 13.20\n",
      "For hour 19 the average number of comments per post is 10.80\n",
      "For hour 20 the average number of comments per post is 21.52\n",
      "For hour 21 the average number of comments per post is 16.01\n",
      "For hour 22 the average number of comments per post is 6.75\n",
      "For hour 23 the average number of comments per post is 7.99\n"
     ]
    }
   ],
   "source": [
    "# Print the result\n",
    "output = \"For hour {:} the average number of comments per post is {:.2f}\"\n",
    "for row in avg_by_hour:\n",
    "    print (output.format(row[0], row[1]))  "
   ]
  },
  {
   "cell_type": "markdown",
   "metadata": {},
   "source": [
    "It appears there are significant differences indeed. Let's visualize this a bit clearer, and show which are the hours of day where posts (on average) attract most comments."
   ]
  },
  {
   "cell_type": "code",
   "execution_count": 68,
   "metadata": {},
   "outputs": [],
   "source": [
    "# Create a list that is sorted on the average number of comments instead\n",
    "swap_avg_by_hour = []\n",
    "\n",
    "for row in avg_by_hour:\n",
    "    swap_avg_by_hour.append([row[1],row[0]])\n",
    "    \n",
    "# Created a sorted version of this list\n",
    "sorted_swap = sorted (swap_avg_by_hour, reverse = True)"
   ]
  },
  {
   "cell_type": "code",
   "execution_count": 69,
   "metadata": {},
   "outputs": [
    {
     "name": "stdout",
     "output_type": "stream",
     "text": [
      "Top 5 Hours for Ask Posts Comments \n",
      "\n",
      "15:00: 38.59 average comments per post\n",
      "02:00: 23.81 average comments per post\n",
      "20:00: 21.52 average comments per post\n",
      "16:00: 16.80 average comments per post\n",
      "21:00: 16.01 average comments per post\n"
     ]
    }
   ],
   "source": [
    "# Display the results\n",
    "print ('Top 5 Hours for Ask Posts Comments', '\\n')\n",
    "output = \"{}: {:.2f} average comments per post\"\n",
    "for row in sorted_swap[:5]:\n",
    "    thetime = dt.datetime.strptime(str(row[1]), '%H')\n",
    "    thetime = thetime.strftime('%H:%M')\n",
    "    print ( output.format(thetime,row[0] ))"
   ]
  },
  {
   "cell_type": "markdown",
   "metadata": {},
   "source": [
    "So those are the best times of days to post if you want to attract comments. What is interesting to see is that the top 5 hours are on very different hours during the day. One possible explanation could be that commenters are located across the globe, and that these different hours represent peak times for different time zones. (That would require further study though.)\n",
    "\n",
    "Note that the times above are for the US Eastern Time. (As per the [dataset documentation](https://www.kaggle.com/hacker-news/hacker-news-posts).)\n",
    "\n",
    "For our time zone (Central European Time), you'll need to add six hours to that."
   ]
  },
  {
   "cell_type": "markdown",
   "metadata": {},
   "source": [
    "## 3. Conclusion"
   ]
  },
  {
   "cell_type": "markdown",
   "metadata": {},
   "source": [
    "Refering back to the goal of this study, let's summarize the conclusions.\n",
    "\n",
    "Post title: when creating posts, adding Ask HN to your post title will do better for attracting comments than adding Show HN:\n",
    "\n",
    "- Ask HN: 14.04 average comments per post\n",
    "- Show HN: 10.32 average comments per post\n",
    "\n",
    "(It has not been compared with posts for not adding a tag at all.)\n",
    "\n",
    "Post timing: the time of day of posting appears to have significant impact on the number of comments that you will attract. Based on an analysis of the Ask HN posts, the top hours (in Central European Time) are:\n",
    "\n",
    "- 21:00 - 22:00: 38.59 average comments per post\n",
    "- 08:00 - 09:00: 23.81 average comments per post\n",
    "- 02:00 - 03:00: 21.52 average comments per post"
   ]
  }
 ],
 "metadata": {
  "kernelspec": {
   "display_name": "Python 3",
   "language": "python",
   "name": "python3"
  },
  "language_info": {
   "codemirror_mode": {
    "name": "ipython",
    "version": 3
   },
   "file_extension": ".py",
   "mimetype": "text/x-python",
   "name": "python",
   "nbconvert_exporter": "python",
   "pygments_lexer": "ipython3",
   "version": "3.8.2"
  }
 },
 "nbformat": 4,
 "nbformat_minor": 2
}
