{
 "cells": [
  {
   "cell_type": "code",
   "execution_count": 1,
   "id": "7cf3a600",
   "metadata": {},
   "outputs": [
    {
     "name": "stdout",
     "output_type": "stream",
     "text": [
      "Requirement already satisfied: soccerplots in e:\\anaconda\\lib\\site-packages (1.0.0)\n",
      "Requirement already satisfied: matplotlib in e:\\anaconda\\lib\\site-packages (from soccerplots) (3.3.4)\n",
      "Requirement already satisfied: pillow in e:\\anaconda\\lib\\site-packages (from soccerplots) (8.2.0)\n",
      "Requirement already satisfied: numpy in e:\\anaconda\\lib\\site-packages (from soccerplots) (1.20.1)\n",
      "Requirement already satisfied: cycler>=0.10 in e:\\anaconda\\lib\\site-packages (from matplotlib->soccerplots) (0.10.0)\n",
      "Requirement already satisfied: python-dateutil>=2.1 in e:\\anaconda\\lib\\site-packages (from matplotlib->soccerplots) (2.8.1)\n",
      "Requirement already satisfied: pyparsing!=2.0.4,!=2.1.2,!=2.1.6,>=2.0.3 in e:\\anaconda\\lib\\site-packages (from matplotlib->soccerplots) (2.4.7)\n",
      "Requirement already satisfied: kiwisolver>=1.0.1 in e:\\anaconda\\lib\\site-packages (from matplotlib->soccerplots) (1.3.1)\n",
      "Requirement already satisfied: six in e:\\anaconda\\lib\\site-packages (from cycler>=0.10->matplotlib->soccerplots) (1.15.0)\n",
      "Note: you may need to restart the kernel to use updated packages.\n"
     ]
    }
   ],
   "source": [
    "pip install soccerplots"
   ]
  },
  {
   "cell_type": "code",
   "execution_count": 2,
   "id": "1e8015ba",
   "metadata": {},
   "outputs": [],
   "source": [
    "import pandas as pd\n",
    "import numpy as np\n",
    "\n",
    "import matplotlib.pyplot as plt \n",
    "import seaborn as sns \n",
    "import matplotlib as mpl\n",
    "from matplotlib.colors import LinearSegmentedColormap\n",
    "from soccerplots.radar_chart import Radar"
   ]
  },
  {
   "cell_type": "code",
   "execution_count": 3,
   "id": "5b87810e",
   "metadata": {},
   "outputs": [
    {
     "data": {
      "image/png": "[encoded data removed]",
      "text/plain": [
       "<Figure size 360x72 with 1 Axes>"
      ]
     },
     "metadata": {
      "needs_background": "light"
     },
     "output_type": "display_data"
    },
    {
     "data": {
      "image/png": "[encoded data removed]",
      "text/plain": [
       "<Figure size 360x72 with 1 Axes>"
      ]
     },
     "metadata": {
      "needs_background": "light"
     },
     "output_type": "display_data"
    },
    {
     "data": {
      "image/png": "[encoded data removed]",
      "text/plain": [
       "<Figure size 360x72 with 1 Axes>"
      ]
     },
     "metadata": {
      "needs_background": "light"
     },
     "output_type": "display_data"
    },
    {
     "data": {
      "image/png": "[encoded data removed]",
      "text/plain": [
       "<Figure size 576x72 with 1 Axes>"
      ]
     },
     "metadata": {
      "needs_background": "light"
     },
     "output_type": "display_data"
    },
    {
     "data": {
      "image/png": "[encoded data removed]",
      "text/plain": [
       "<Figure size 360x72 with 1 Axes>"
      ]
     },
     "metadata": {
      "needs_background": "light"
     },
     "output_type": "display_data"
    }
   ],
   "source": [
    "colors_blue = [\"#132C33\", \"#264D58\", '#17869E', '#51C4D3', '#B4DBE9']\n",
    "colors_dark = [\"#1F1F1F\", \"#313131\", '#636363', '#AEAEAE', '#DADADA']\n",
    "colors_red = [\"#331313\", \"#582626\", '#9E1717', '#D35151', '#E9B4B4']\n",
    "colors_mix = [\"#17869E\", '#264D58', '#179E66', '#D35151', '#E9DAB4', '#E9B4B4', '#D3B651', '#6351D3']\n",
    "colors_div = [\"#132C33\", '#17869E', '#DADADA', '#D35151', '#331313']\n",
    "\n",
    "sns.palplot(colors_blue)\n",
    "sns.palplot(colors_dark)\n",
    "sns.palplot(colors_red)\n",
    "sns.palplot(colors_mix)\n",
    "sns.palplot(colors_div)"
   ]
  },
  {
   "cell_type": "code",
   "execution_count": 4,
   "id": "34a8920b",
   "metadata": {},
   "outputs": [],
   "source": [
    "mpl.rcParams['axes.spines.right'] = False\n",
    "mpl.rcParams['axes.spines.top'] = False\n",
    "mpl.rcParams['axes.spines.bottom'] = False\n",
    "mpl.rcParams['axes.titlecolor'] = colors_dark[0]\n",
    "mpl.rcParams['axes.labelcolor'] = colors_dark[0]\n",
    "\n",
    "# tick\n",
    "mpl.rcParams['xtick.color'] = colors_dark[0]\n",
    "mpl.rcParams['ytick.color'] = colors_dark[0]\n",
    "mpl.rcParams['xtick.labelsize'] = 12\n",
    "mpl.rcParams['ytick.labelsize'] = 12\n",
    "\n",
    "\n",
    "# legend \n",
    "mpl.rcParams['legend.edgecolor'] = colors_dark[0]"
   ]
  },
  {
   "cell_type": "code",
   "execution_count": 5,
   "id": "16e759f6",
   "metadata": {},
   "outputs": [
    {
     "data": {
      "text/html": [
       "<div>\n",
       "<style scoped>\n",
       "    .dataframe tbody tr th:only-of-type {\n",
       "        vertical-align: middle;\n",
       "    }\n",
       "\n",
       "    .dataframe tbody tr th {\n",
       "        vertical-align: top;\n",
       "    }\n",
       "\n",
       "    .dataframe thead th {\n",
       "        text-align: right;\n",
       "    }\n",
       "</style>\n",
       "<table border=\"1\" class=\"dataframe\">\n",
       "  <thead>\n",
       "    <tr style=\"text-align: right;\">\n",
       "      <th></th>\n",
       "      <th>Team</th>\n",
       "      <th>Tournament</th>\n",
       "      <th>Goals</th>\n",
       "      <th>Shots pg</th>\n",
       "      <th>yellow_cards</th>\n",
       "      <th>red_cards</th>\n",
       "      <th>Possession%</th>\n",
       "      <th>Pass%</th>\n",
       "      <th>AerialsWon</th>\n",
       "      <th>Rating</th>\n",
       "    </tr>\n",
       "  </thead>\n",
       "  <tbody>\n",
       "    <tr>\n",
       "      <th>0</th>\n",
       "      <td>Manchester City</td>\n",
       "      <td>Premier League</td>\n",
       "      <td>83</td>\n",
       "      <td>15.8</td>\n",
       "      <td>46</td>\n",
       "      <td>2</td>\n",
       "      <td>60.8</td>\n",
       "      <td>89.4</td>\n",
       "      <td>12.8</td>\n",
       "      <td>7.01</td>\n",
       "    </tr>\n",
       "    <tr>\n",
       "      <th>1</th>\n",
       "      <td>Bayern Munich</td>\n",
       "      <td>Bundesliga</td>\n",
       "      <td>99</td>\n",
       "      <td>17.1</td>\n",
       "      <td>44</td>\n",
       "      <td>3</td>\n",
       "      <td>58.1</td>\n",
       "      <td>85.5</td>\n",
       "      <td>12.9</td>\n",
       "      <td>6.95</td>\n",
       "    </tr>\n",
       "    <tr>\n",
       "      <th>2</th>\n",
       "      <td>Paris Saint-Germain</td>\n",
       "      <td>Ligue 1</td>\n",
       "      <td>86</td>\n",
       "      <td>15.0</td>\n",
       "      <td>73</td>\n",
       "      <td>7</td>\n",
       "      <td>60.1</td>\n",
       "      <td>89.5</td>\n",
       "      <td>9.5</td>\n",
       "      <td>6.88</td>\n",
       "    </tr>\n",
       "    <tr>\n",
       "      <th>3</th>\n",
       "      <td>Barcelona</td>\n",
       "      <td>LaLiga</td>\n",
       "      <td>85</td>\n",
       "      <td>15.3</td>\n",
       "      <td>68</td>\n",
       "      <td>2</td>\n",
       "      <td>62.4</td>\n",
       "      <td>89.7</td>\n",
       "      <td>10.6</td>\n",
       "      <td>6.87</td>\n",
       "    </tr>\n",
       "    <tr>\n",
       "      <th>4</th>\n",
       "      <td>Real Madrid</td>\n",
       "      <td>LaLiga</td>\n",
       "      <td>67</td>\n",
       "      <td>14.4</td>\n",
       "      <td>57</td>\n",
       "      <td>2</td>\n",
       "      <td>57.7</td>\n",
       "      <td>87.7</td>\n",
       "      <td>11.8</td>\n",
       "      <td>6.86</td>\n",
       "    </tr>\n",
       "  </tbody>\n",
       "</table>\n",
       "</div>"
      ],
      "text/plain": [
       "                  Team      Tournament  Goals  Shots pg  yellow_cards  \\\n",
       "0      Manchester City  Premier League     83      15.8            46   \n",
       "1        Bayern Munich      Bundesliga     99      17.1            44   \n",
       "2  Paris Saint-Germain         Ligue 1     86      15.0            73   \n",
       "3            Barcelona          LaLiga     85      15.3            68   \n",
       "4          Real Madrid          LaLiga     67      14.4            57   \n",
       "\n",
       "   red_cards  Possession%  Pass%  AerialsWon  Rating  \n",
       "0          2         60.8   89.4        12.8    7.01  \n",
       "1          3         58.1   85.5        12.9    6.95  \n",
       "2          7         60.1   89.5         9.5    6.88  \n",
       "3          2         62.4   89.7        10.6    6.87  \n",
       "4          2         57.7   87.7        11.8    6.86  "
      ]
     },
     "execution_count": 5,
     "metadata": {},
     "output_type": "execute_result"
    }
   ],
   "source": [
    "df = pd.read_csv(\"Football teams.csv\")\n",
    "df.head(5)"
   ]
  },
  {
   "cell_type": "code",
   "execution_count": 6,
   "id": "1f96dac8",
   "metadata": {},
   "outputs": [
    {
     "name": "stdout",
     "output_type": "stream",
     "text": [
      "<class 'pandas.core.frame.DataFrame'>\n",
      "RangeIndex: 98 entries, 0 to 97\n",
      "Data columns (total 10 columns):\n",
      " #   Column        Non-Null Count  Dtype  \n",
      "---  ------        --------------  -----  \n",
      " 0   Team          98 non-null     object \n",
      " 1   Tournament    98 non-null     object \n",
      " 2   Goals         98 non-null     int64  \n",
      " 3   Shots pg      98 non-null     float64\n",
      " 4   yellow_cards  98 non-null     int64  \n",
      " 5   red_cards     98 non-null     int64  \n",
      " 6   Possession%   98 non-null     float64\n",
      " 7   Pass%         98 non-null     float64\n",
      " 8   AerialsWon    98 non-null     float64\n",
      " 9   Rating        98 non-null     float64\n",
      "dtypes: float64(5), int64(3), object(2)\n",
      "memory usage: 7.8+ KB\n"
     ]
    }
   ],
   "source": [
    "df.info()"
   ]
  },
  {
   "cell_type": "code",
   "execution_count": 7,
   "id": "9d154a71",
   "metadata": {},
   "outputs": [
    {
     "data": {
      "text/plain": [
       "Team            0\n",
       "Tournament      0\n",
       "Goals           0\n",
       "Shots pg        0\n",
       "yellow_cards    0\n",
       "red_cards       0\n",
       "Possession%     0\n",
       "Pass%           0\n",
       "AerialsWon      0\n",
       "Rating          0\n",
       "dtype: int64"
      ]
     },
     "execution_count": 7,
     "metadata": {},
     "output_type": "execute_result"
    }
   ],
   "source": [
    "df.isnull().sum()"
   ]
  },
  {
   "cell_type": "code",
   "execution_count": 8,
   "id": "6ba1cc59",
   "metadata": {},
   "outputs": [
    {
     "data": {
      "text/plain": [
       "Tournament\n",
       "Bundesliga        18\n",
       "LaLiga            20\n",
       "Ligue 1           20\n",
       "Premier League    20\n",
       "Serie A           20\n",
       "Name: Team, dtype: int64"
      ]
     },
     "execution_count": 8,
     "metadata": {},
     "output_type": "execute_result"
    }
   ],
   "source": [
    "df.groupby('Tournament')['Team'].nunique()"
   ]
  },
  {
   "cell_type": "code",
   "execution_count": 9,
   "id": "5d57a1d1",
   "metadata": {},
   "outputs": [],
   "source": [
    "EPL = df[df.Tournament=='Premier League']\n",
    "LAL = df[df.Tournament=='LaLiga']\n",
    "L1 = df[df.Tournament=='Ligue 1']\n",
    "BL = df[df.Tournament=='Bundesliga']\n",
    "SA = df[df.Tournament=='Serie A']"
   ]
  },
  {
   "cell_type": "code",
   "execution_count": 10,
   "id": "10bb1a2e",
   "metadata": {},
   "outputs": [
    {
     "data": {
      "text/html": [
       "<div>\n",
       "<style scoped>\n",
       "    .dataframe tbody tr th:only-of-type {\n",
       "        vertical-align: middle;\n",
       "    }\n",
       "\n",
       "    .dataframe tbody tr th {\n",
       "        vertical-align: top;\n",
       "    }\n",
       "\n",
       "    .dataframe thead th {\n",
       "        text-align: right;\n",
       "    }\n",
       "</style>\n",
       "<table border=\"1\" class=\"dataframe\">\n",
       "  <thead>\n",
       "    <tr style=\"text-align: right;\">\n",
       "      <th></th>\n",
       "      <th>index</th>\n",
       "      <th>Team</th>\n",
       "      <th>Tournament</th>\n",
       "      <th>Goals</th>\n",
       "      <th>Shots pg</th>\n",
       "      <th>yellow_cards</th>\n",
       "      <th>red_cards</th>\n",
       "      <th>Possession%</th>\n",
       "      <th>Pass%</th>\n",
       "      <th>AerialsWon</th>\n",
       "      <th>Rating</th>\n",
       "    </tr>\n",
       "  </thead>\n",
       "  <tbody>\n",
       "    <tr>\n",
       "      <th>0</th>\n",
       "      <td>1</td>\n",
       "      <td>Bayern Munich</td>\n",
       "      <td>Bundesliga</td>\n",
       "      <td>99</td>\n",
       "      <td>17.1</td>\n",
       "      <td>44</td>\n",
       "      <td>3</td>\n",
       "      <td>58.1</td>\n",
       "      <td>85.5</td>\n",
       "      <td>12.9</td>\n",
       "      <td>6.95</td>\n",
       "    </tr>\n",
       "    <tr>\n",
       "      <th>1</th>\n",
       "      <td>8</td>\n",
       "      <td>Borussia Dortmund</td>\n",
       "      <td>Bundesliga</td>\n",
       "      <td>75</td>\n",
       "      <td>14.6</td>\n",
       "      <td>43</td>\n",
       "      <td>1</td>\n",
       "      <td>57.5</td>\n",
       "      <td>85.5</td>\n",
       "      <td>12.8</td>\n",
       "      <td>6.84</td>\n",
       "    </tr>\n",
       "    <tr>\n",
       "      <th>2</th>\n",
       "      <td>18</td>\n",
       "      <td>Wolfsburg</td>\n",
       "      <td>Bundesliga</td>\n",
       "      <td>61</td>\n",
       "      <td>14.1</td>\n",
       "      <td>56</td>\n",
       "      <td>3</td>\n",
       "      <td>51.0</td>\n",
       "      <td>78.0</td>\n",
       "      <td>16.9</td>\n",
       "      <td>6.80</td>\n",
       "    </tr>\n",
       "    <tr>\n",
       "      <th>3</th>\n",
       "      <td>21</td>\n",
       "      <td>RB Leipzig</td>\n",
       "      <td>Bundesliga</td>\n",
       "      <td>60</td>\n",
       "      <td>16.0</td>\n",
       "      <td>57</td>\n",
       "      <td>0</td>\n",
       "      <td>57.3</td>\n",
       "      <td>83.2</td>\n",
       "      <td>18.6</td>\n",
       "      <td>6.78</td>\n",
       "    </tr>\n",
       "    <tr>\n",
       "      <th>4</th>\n",
       "      <td>25</td>\n",
       "      <td>Bayer Leverkusen</td>\n",
       "      <td>Bundesliga</td>\n",
       "      <td>53</td>\n",
       "      <td>13.0</td>\n",
       "      <td>58</td>\n",
       "      <td>0</td>\n",
       "      <td>57.3</td>\n",
       "      <td>84.4</td>\n",
       "      <td>13.1</td>\n",
       "      <td>6.73</td>\n",
       "    </tr>\n",
       "  </tbody>\n",
       "</table>\n",
       "</div>"
      ],
      "text/plain": [
       "   index               Team  Tournament  Goals  Shots pg  yellow_cards  \\\n",
       "0      1      Bayern Munich  Bundesliga     99      17.1            44   \n",
       "1      8  Borussia Dortmund  Bundesliga     75      14.6            43   \n",
       "2     18          Wolfsburg  Bundesliga     61      14.1            56   \n",
       "3     21         RB Leipzig  Bundesliga     60      16.0            57   \n",
       "4     25   Bayer Leverkusen  Bundesliga     53      13.0            58   \n",
       "\n",
       "   red_cards  Possession%  Pass%  AerialsWon  Rating  \n",
       "0          3         58.1   85.5        12.9    6.95  \n",
       "1          1         57.5   85.5        12.8    6.84  \n",
       "2          3         51.0   78.0        16.9    6.80  \n",
       "3          0         57.3   83.2        18.6    6.78  \n",
       "4          0         57.3   84.4        13.1    6.73  "
      ]
     },
     "execution_count": 10,
     "metadata": {},
     "output_type": "execute_result"
    }
   ],
   "source": [
    "BL.reset_index(inplace=True)\n",
    "BL.head()"
   ]
  },
  {
   "cell_type": "code",
   "execution_count": 13,
   "id": "205632e4",
   "metadata": {},
   "outputs": [
    {
     "data": {
      "image/png": "[encoded data removed]",
      "text/plain": [
       "<Figure size 1008x864 with 1 Axes>"
      ]
     },
     "metadata": {
      "needs_background": "light"
     },
     "output_type": "display_data"
    }
   ],
   "source": [
    "sorted_data = BL.sort_values(by=\"Goals\",ascending=False)\n",
    "sorted_data.reset_index(inplace=True)\n",
    "epl_goal_top = sorted_data.iloc[0:1]\n",
    "epl_goal_bot = sorted_data.iloc[-1]\n",
    "mean_score = EPL['Goals'].mean()\n",
    "epl_idx = list(sorted_data.index + 1)\n",
    "\n",
    "fig, ax = plt.subplots(figsize=(14, 12))\n",
    "\n",
    "bars0 = ax.barh(epl_goal_top['Team'], epl_goal_top['Goals'], color=colors_blue[3], alpha=0.6, edgecolor=colors_dark[0])\n",
    "bars1 = ax.barh(sorted_data['Team'], sorted_data['Goals'], color=colors_dark[3], alpha=0.4, edgecolor=colors_dark[0])\n",
    "bars2 = ax.barh(epl_goal_bot['Team'], epl_goal_bot['Goals'], color=colors_red[2], alpha=0.6, edgecolor=colors_dark[0])\n",
    "line  = ax.axvline(mean_score, linestyle='--', color=colors_dark[2])\n",
    "\n",
    "ax.legend([\"Average Goal\", \"Best Team\", \"Other Teams\" ,\"Worst Team\"], loc='upper center', bbox_to_anchor=(0.5, -0.2), ncol=5, borderpad=1, frameon=False, fontsize=12)\n",
    "ax.grid(axis='x', alpha=0.3)\n",
    "ax.set_axisbelow(True)\n",
    "ax.set_xlabel(\"Goals\", fontsize=14, labelpad=10, fontweight='bold', color=colors_dark[0])\n",
    "ax.set_ylabel(\"Teams\", fontsize=14, labelpad=10, fontweight='bold', color=colors_dark[0])\n",
    "xmin, xmax = ax.get_xlim()\n",
    "ymin, ymax = ax.get_ylim()\n",
    "\n",
    "avgl  = ax.text(\n",
    "    s=\"Avarage\\nGoal: {:.2f}\".format(mean_score),\n",
    "    y=ymax-4,\n",
    "    x=mean_score+1,\n",
    "    backgroundcolor=colors_dark[2],\n",
    "    fontsize=14,\n",
    "    fontweight='bold',\n",
    "    rotation=270,\n",
    "    color='white'\n",
    ")    \n",
    "for i, bar in enumerate(bars1) : \n",
    "    x=bar.get_width(),\n",
    "    y=bar.get_y(),\n",
    "    if i !=0 and i != 19:\n",
    "        ax.text(\n",
    "            s=f\"{epl_idx[i]}th\",\n",
    "            va='center', ha='center', \n",
    "            x=x[0]/2, y=y[0]+0.30,\n",
    "            color=colors_dark[3],\n",
    "            fontsize=14,\n",
    "        )\n",
    "        \n",
    "for i, bar in enumerate(bars0) : \n",
    "    x=bar.get_width(),\n",
    "    y=bar.get_y(),\n",
    "    ax.text(\n",
    "        s=f\"1st\",\n",
    "        va='center', ha='center', \n",
    "        x=x[0]/2, y=y[0]+0.30,\n",
    "        color=\"white\",\n",
    "        fontsize=14,\n",
    "        fontweight='bold',\n",
    "        alpha=1,\n",
    "    )\n",
    "    \n",
    "for i, bar in enumerate(bars2) : \n",
    "    x=bar.get_width(),\n",
    "    y=bar.get_y(),\n",
    "    ax.text(\n",
    "        s=f\"18th\",\n",
    "        va='center', ha='center', \n",
    "        x=x[0]/2, y=y[0]+0.30,\n",
    "        color=\"white\",\n",
    "        fontsize=14,\n",
    "        fontweight='bold',\n",
    "        alpha=1,\n",
    "    )\n",
    "        \n",
    "plt.text(s=\"Which is the top scorer team?\", ha='left', x=xmin, y=ymax*1.08, fontsize=24, fontweight='bold', color=colors_dark[0])\n",
    "plt.title(\"Bayern Munich has 99 goals for season that means +48 goals per average.\\nSchalke 04 is the worst team about goal. They just have 25 goals.\", loc='left', fontsize=13, color=colors_dark[2])\n",
    "plt.tight_layout()\n",
    "plt.show()"
   ]
  },
  {
   "cell_type": "code",
   "execution_count": null,
   "id": "c847c722",
   "metadata": {},
   "outputs": [],
   "source": []
  }
 ],
 "metadata": {
  "kernelspec": {
   "display_name": "Python 3",
   "language": "python",
   "name": "python3"
  },
  "language_info": {
   "codemirror_mode": {
    "name": "ipython",
    "version": 3
   },
   "file_extension": ".py",
   "mimetype": "text/x-python",
   "name": "python",
   "nbconvert_exporter": "python",
   "pygments_lexer": "ipython3",
   "version": "3.8.8"
  }
 },
 "nbformat": 4,
 "nbformat_minor": 5
}
